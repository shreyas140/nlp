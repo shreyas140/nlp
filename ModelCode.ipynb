{
 "cells": [
  {
   "cell_type": "code",
   "execution_count": 17,
   "metadata": {},
   "outputs": [],
   "source": [
    "import pandas as pd\n",
    "import re\n",
    "import string\n",
    "import nltk\n",
    "import numpy as np\n",
    "from collections import OrderedDict \n",
    "from sklearn.feature_extraction.text import TfidfVectorizer\n",
    "from sklearn.pipeline import Pipeline\n",
    "from sklearn.svm import LinearSVC\n",
    "from matplotlib import pyplot as plt\n",
    "from sklearn.feature_selection import SelectKBest, chi2"
   ]
  },
  {
   "cell_type": "code",
   "execution_count": 2,
   "metadata": {},
   "outputs": [
    {
     "name": "stderr",
     "output_type": "stream",
     "text": [
      "[nltk_data] Downloading package stopwords to\n",
      "[nltk_data]     C:\\Users\\61413\\AppData\\Roaming\\nltk_data...\n",
      "[nltk_data]   Package stopwords is already up-to-date!\n"
     ]
    },
    {
     "data": {
      "text/plain": [
       "True"
      ]
     },
     "execution_count": 2,
     "metadata": {},
     "output_type": "execute_result"
    }
   ],
   "source": [
    "'''To run the following code, please ensure that the NLTK library has been downloaded - if there is an error in the \n",
    "    above code, please ensure that you have installed NLTK via conda install using the line below'''\n",
    "#conda install -c anaconda nltk\n",
    "nltk.download(\"stopwords\")"
   ]
  },
  {
   "cell_type": "markdown",
   "metadata": {},
   "source": [
    "The Model\n",
    "----------"
   ]
  },
  {
   "cell_type": "code",
   "execution_count": 3,
   "metadata": {},
   "outputs": [],
   "source": [
    "def clean_text(comment):\n",
    "    '''\n",
    "    The following code seperates text reviews into tokens, and removes all frequently used words, capitalisation and \n",
    "    punctuation. \n",
    "    \n",
    "    INPUT:\n",
    "    - comment: A text review, in string format\n",
    "    \n",
    "    OUTPUT:\n",
    "    - clean_comment: A clean text review, in string format, without any frequently used words, capitalisation and \n",
    "                     punctuation\n",
    "    '''\n",
    "    #stopwords contain the most frequently used words in english\n",
    "    stopwords = nltk.corpus.stopwords.words(\"english\")\n",
    "    \n",
    "    clean_comment=\"\"\n",
    "    #for each review, find the tokens\n",
    "    tokens = re.split('\\W+', comment)\n",
    "    for word in tokens:\n",
    "        #remove the commonly used words and punctuations\n",
    "        if (word.lower() not in stopwords) and (word.lower() not in string.punctuation):\n",
    "            clean_comment += word.lower() + \" \" \n",
    "    return clean_comment "
   ]
  },
  {
   "cell_type": "code",
   "execution_count": 4,
   "metadata": {},
   "outputs": [],
   "source": [
    "def preprocess_text(text_data, meta_data):\n",
    "    '''\n",
    "    The following code reads in 2 .csv files containing text reviews and meta-data (including target class of rating)\n",
    "    respectively - A dataframe is made holding the text reviews and their respective rating.\n",
    "    Each text review is then cleaned and a third column, clean_review is generated\n",
    "    \n",
    "    INPUT:\n",
    "    - text_data: A .csv file containing only one column with text reviews\n",
    "    - meta_data: A .csv file containing meta-data and the class column 'rating'\n",
    "    \n",
    "    OUTPUT:\n",
    "    - df: A dataframe holding the text review, clean text review and rating value\n",
    "    '''\n",
    "    #read in the .csv file with the reviews\n",
    "    df=pd.read_csv(text_data)\n",
    "    \n",
    "    #save reviews from meta file\n",
    "    df1=pd.read_csv(meta_data)\n",
    "    df['rating']=df1.loc[:,'rating']\n",
    "    \n",
    "    #clean the review text data so it can be better processed in later stages\n",
    "    df['clean_review']=\"\"\n",
    "    for review_index in df.iloc[:, 0].index:\n",
    "        df.loc[review_index,'clean_review'] = clean_text(df.loc[review_index,'review'])\n",
    "    return df"
   ]
  },
  {
   "cell_type": "code",
   "execution_count": 5,
   "metadata": {},
   "outputs": [],
   "source": [
    "df = preprocess_text(\"review_text_train.csv\",\"review_meta_train.csv\")"
   ]
  },
  {
   "cell_type": "code",
   "execution_count": 8,
   "metadata": {},
   "outputs": [],
   "source": [
    "def train_text(X, y):\n",
    "    '''\n",
    "    The following code creates a pipeline of transformations to fit data X and y to a TF-IDF Vectorizer and a Linear SVC \n",
    "    consecutively. \n",
    "    The Term Frequency - Inverse Document Frequency (TF-IDF) Vectorizer is used to create a bag of words and associate a \n",
    "    higher weight to words that are more important to a corpus (determined by term frequency offset by frequency in \n",
    "    document)\n",
    "    The Linear Support Vector Classifier (LinearSVC) is used to determine the parameters of a hyperplane to best seperate\n",
    "    classes across the multiple features generated in the TF-IDF Vectorizer. \n",
    "    \n",
    "    INPUT:\n",
    "    - X: An array of (clean) reviews\n",
    "    - y: An array of classes/ratings for each review in X\n",
    "    \n",
    "    OUTPUT:\n",
    "    - model: A TF-IDF Vectorizer and a LinearSVC fitted to the input data X and y. \n",
    "    '''\n",
    "    pipeline=Pipeline([('vect', TfidfVectorizer(ngram_range=(1,3))),\n",
    "                  ('clf', LinearSVC(penalty='l1', max_iter=10000, dual=False))]) \n",
    "    \n",
    "    model=pipeline.fit(X, y)\n",
    "    \n",
    "    return model"
   ]
  },
  {
   "cell_type": "code",
   "execution_count": 10,
   "metadata": {},
   "outputs": [],
   "source": [
    "model = train_text(df['clean_review'], df['rating'])"
   ]
  },
  {
   "cell_type": "code",
   "execution_count": 41,
   "metadata": {},
   "outputs": [],
   "source": [
    "def predict_text(df, model, X_test):\n",
    "    '''\n",
    "    The following code displays the top 10 words associated with each rating class to help the user determine whether the \n",
    "    model has been reasonably well trained. It also makes a prediction for the input test data.\n",
    "    \n",
    "    INPUT:\n",
    "    - df: A dataframe where the model predictions should be kept - this should be the same dataframe containing the reviews,\n",
    "          clean reviews and original ratings. \n",
    "    - model: A pipeline output containing atleast two steps with the names 'vect' - a TF-IDF Vectorizer and 'clf' - a \n",
    "             linear SVC\n",
    "    - X_test: An array of reviews that need to be classified by the model\n",
    "    \n",
    "    OUTPUT:\n",
    "    - df: Input dataframe with column 'predicted_rating' - holding the model predictions for each test instance\n",
    "    '''\n",
    "   #extract the steps of the pipeline\n",
    "    vectorizer=model.named_steps['vect']\n",
    "    clf=model.named_steps['clf']\n",
    "    \n",
    "    #get all possible features from the vectorizer\n",
    "    feature_names=vectorizer.get_feature_names()\n",
    "\n",
    "    #save as numpy array\n",
    "    feature_names=np.asarray(feature_names)\n",
    "    \n",
    "    #determine if the model classification is reasonable by assessing if the top 10 words link to a reasonable score\n",
    "    target_names=['1', '3', '5']\n",
    "    for i, label in enumerate(target_names):\n",
    "        top10=np.argsort(clf.coef_[i])[-10:]\n",
    "        print(\"%s star: %s\" % (label, \" \".join(feature_names[top10])))\n",
    "\n",
    "    #predict a rating for an X_test set\n",
    "    df['predicted_rating']=model.predict(X_test)\n",
    "    \n",
    "    return df"
   ]
  },
  {
   "cell_type": "code",
   "execution_count": 12,
   "metadata": {},
   "outputs": [
    {
     "name": "stdout",
     "output_type": "stream",
     "text": [
      "1 star: never return never go terrible zero awful one star horrible tasteless rude worst\n",
      "3 star: underwhelmed get wrong okay meh overall good would return ok however hit miss three stars\n",
      "5 star: perfectly awesome fantastic heaven well worth best perfect delicious amazing wait go back\n"
     ]
    }
   ],
   "source": [
    "df=predict_text(df, model, df['review'])"
   ]
  },
  {
   "cell_type": "code",
   "execution_count": 13,
   "metadata": {},
   "outputs": [],
   "source": [
    "def evaluate_text(model, X_test, y_test):\n",
    "    '''\n",
    "    Find the prediction score of the model with test data\n",
    "    \n",
    "    INPUT:\n",
    "    - model: A pipeline output containing atleast two steps with the names 'vect' - a TF-IDF Vectorizer and 'clf' - a \n",
    "             linear SVC\n",
    "    - X_test: An array of reviews that need to be classified by the model\n",
    "    - y_test: An array of ratings, corresponding to each review in X_test\n",
    "    \n",
    "    OUTPUT:\n",
    "    - score: The accuracy of the model against the test data\n",
    "    '''\n",
    "    return model.score(X_test, y_test)"
   ]
  },
  {
   "cell_type": "code",
   "execution_count": 14,
   "metadata": {},
   "outputs": [
    {
     "data": {
      "text/plain": [
       "0.8987815305686191"
      ]
     },
     "execution_count": 14,
     "metadata": {},
     "output_type": "execute_result"
    }
   ],
   "source": [
    "evaluate_text(model, df['review'], df['rating'])"
   ]
  },
  {
   "cell_type": "markdown",
   "metadata": {},
   "source": [
    "Testing the Model\n",
    "-------------"
   ]
  },
  {
   "cell_type": "code",
   "execution_count": 47,
   "metadata": {},
   "outputs": [
    {
     "name": "stdout",
     "output_type": "stream",
     "text": [
      "1 star: zero never go never return terrible awful one star tasteless horrible rude worst\n",
      "3 star: get wrong decent overall good okay meh would return ok however hit miss three stars\n",
      "5 star: perfectly awesome heaven fantastic well worth best perfect delicious amazing wait go back\n"
     ]
    }
   ],
   "source": [
    "df_test=pd.read_csv(\"review_text_test.csv\")\n",
    "df_test=predict_text(df_test, model, df_test['review'])\n",
    "df_test.to_csv(\"C:\\\\Users\\\\61413\\\\Documents\\\\Machine Learning\\\\Assignment2\\\\A2_prediction14.csv\")"
   ]
  },
  {
   "cell_type": "markdown",
   "metadata": {},
   "source": [
    "Test the Accuracy Given a Variation in Feature Dimensionality\n",
    "---------------------------------------"
   ]
  },
  {
   "cell_type": "code",
   "execution_count": 18,
   "metadata": {},
   "outputs": [
    {
     "data": {
      "text/plain": [
       "Text(0.5, 0, 'Number of Features')"
      ]
     },
     "execution_count": 18,
     "metadata": {},
     "output_type": "execute_result"
    },
    {
     "data": {
      "image/png": "[encoded data removed]",
      "text/plain": [
       "<Figure size 432x288 with 1 Axes>"
      ]
     },
     "metadata": {
      "needs_background": "light"
     },
     "output_type": "display_data"
    }
   ],
   "source": [
    "def test_kval_train_text(X, y, k_val):\n",
    "    '''\n",
    "    The following code is used to test the accuracy when varying feature dimensionality.\n",
    "    It creates a pipeline of transformations to fit data X and y to a TF-IDF Vectorizer and a Linear SVC consecutively. \n",
    "    The Term Frequency - Inverse Document Frequency (TF-IDF) Vectorizer is used to create a bag of words and associate a \n",
    "    higher weight to words that are more important to a corpus (determined by term frequency offset by frequency in \n",
    "    document)\n",
    "    The Linear Support Vector Classifier (LinearSVC) is used to determine the parameters of a hyperplane to best seperate\n",
    "    classes across the multiple features generated in the TF-IDF Vectorizer. \n",
    "    \n",
    "    INPUT:\n",
    "    - X: An array of (clean) reviews\n",
    "    - y: An array of classes/ratings for each review in X\n",
    "    - k_val: A value for the number of target features that should be selected\n",
    "    \n",
    "    OUTPUT:\n",
    "    - model: A TF-IDF Vectorizer and a LinearSVC fitted to the input data X and y. \n",
    "    '''\n",
    "    pipeline=Pipeline([('vect', TfidfVectorizer(ngram_range=(1,3))),\n",
    "                  ('chi', SelectKBest(chi2, k=k_val)),\n",
    "                  ('clf', LinearSVC(penalty='l1', max_iter=10000, dual=False))]) \n",
    "    \n",
    "    model=pipeline.fit(X, y)\n",
    "    \n",
    "    return model\n",
    "\n",
    "def test_predict_text(df, model, X_test):\n",
    "    '''\n",
    "    The following code makes a prediction for the input test data.\n",
    "    \n",
    "    INPUT:\n",
    "    - df: A dataframe where the model predictions should be kept - this should be the same dataframe containing the reviews,\n",
    "          clean reviews and original ratings. \n",
    "    - model: A pipeline output containing atleast two steps with the names 'vect' - a TF-IDF Vectorizer and 'clf' - a \n",
    "             linear SVC\n",
    "    - X_test: An array of reviews that need to be classified by the model\n",
    "    \n",
    "    OUTPUT:\n",
    "    - df: Input dataframe with column 'predicted_rating' - holding the model predictions for each test instance\n",
    "    '''\n",
    "    #predict a rating for an X_test set\n",
    "    df['predicted_rating']=model.predict(X_test)\n",
    "    \n",
    "    return df\n",
    "\n",
    "#record the accuracy for multiple possible numbers of features\n",
    "accuracy=[]\n",
    "for i in range(1000,1001000, 100000):\n",
    "    #generate a model on i features\n",
    "    model = test_kval_train_text(df['clean_review'], df['rating'], i)\n",
    "    #perform prediction on test data\n",
    "    df=test_predict_text(df, model, df['review'])\n",
    "    #evaluate the accuracy and append to list\n",
    "    score=evaluate_text(model, df['review'], df['rating'])\n",
    "    accuracy.append(score)\n",
    "    \n",
    "#plot the accuracy given different numbers of features\n",
    "plt.plot(range(1000,1001000, 100000) , accuracy)\n",
    "plt.title(\"Training Accuracy With Feature Dimensionality Variation\")\n",
    "plt.ylabel(\"Accuracy\")\n",
    "plt.xlabel(\"Number of Features\")"
   ]
  },
  {
   "cell_type": "markdown",
   "metadata": {},
   "source": [
    "Test the Accuracy Given Variation in N-Gram Range\n",
    "---------------------------------------"
   ]
  },
  {
   "cell_type": "code",
   "execution_count": 53,
   "metadata": {},
   "outputs": [
    {
     "data": {
      "text/plain": [
       "Text(0.5, 0, 'N-Gram Range: 1-x')"
      ]
     },
     "execution_count": 53,
     "metadata": {},
     "output_type": "execute_result"
    },
    {
     "data": {
      "image/png": "[encoded data removed]",
      "text/plain": [
       "<Figure size 432x288 with 1 Axes>"
      ]
     },
     "metadata": {
      "needs_background": "light"
     },
     "output_type": "display_data"
    }
   ],
   "source": [
    "def test_ngram_train_text(X, y, max_ngram):\n",
    "    '''\n",
    "    The following code is used to test the accuracy when varying the N-Gram range.\n",
    "    It creates a pipeline of transformations to fit data X and y to a TF-IDF Vectorizer and a Linear SVC consecutively. \n",
    "    The Term Frequency - Inverse Document Frequency (TF-IDF) Vectorizer is used to create a bag of words and associate a \n",
    "    higher weight to words that are more important to a corpus (determined by term frequency offset by frequency in \n",
    "    document)\n",
    "    The Linear Support Vector Classifier (LinearSVC) is used to determine the parameters of a hyperplane to best seperate\n",
    "    classes across the multiple features generated in the TF-IDF Vectorizer. \n",
    "    \n",
    "    INPUT:\n",
    "    - X: An array of (clean) reviews\n",
    "    - y: An array of classes/ratings for each review in X\n",
    "    - max_ngram: The maximum n-gram range to be implemented for the model\n",
    "    \n",
    "    OUTPUT:\n",
    "    - model: A TF-IDF Vectorizer and a LinearSVC fitted to the input data X and y. \n",
    "    '''\n",
    "    pipeline=Pipeline([('vect', TfidfVectorizer(ngram_range=(1,max_ngram))),\n",
    "                       ('clf', LinearSVC(penalty='l1', max_iter=10000, dual=False))]) \n",
    "    \n",
    "    model=pipeline.fit(X, y)\n",
    "    \n",
    "    return model\n",
    "\n",
    "\n",
    "def test_ngram_predict_text(df, model, X_test):\n",
    "    '''\n",
    "    The following code makes a prediction for the input test data.\n",
    "    \n",
    "    INPUT:\n",
    "    - df: A dataframe where the model predictions should be kept - this should be the same dataframe containing the reviews,\n",
    "          clean reviews and original ratings. \n",
    "    - model: A pipeline output containing atleast two steps with the names 'vect' - a TF-IDF Vectorizer and 'clf' - a \n",
    "             linear SVC\n",
    "    - X_test: An array of reviews that need to be classified by the model\n",
    "    \n",
    "    OUTPUT:\n",
    "    - df: Input dataframe with column 'predicted_rating' - holding the model predictions for each test instance\n",
    "    '''\n",
    "    df['predicted_rating']=model.predict(X_test)\n",
    "    \n",
    "    return df\n",
    "\n",
    "#record the accuracy for multiple possible numbers of features\n",
    "accuracy=[]\n",
    "for i in range(1,6):\n",
    "    #generate a model on with a [1:i] N-Gram range\n",
    "    model = test_ngram_train_text(df['clean_review'], df['rating'], i)\n",
    "    #perform prediction on test data\n",
    "    df=test_ngram_predict_text(df, model, df['review'])\n",
    "    #evaluate the accuracy and append to list\n",
    "    score=evaluate_text(model, df['review'], df['rating'])\n",
    "    accuracy.append(score)\n",
    "\n",
    "#plot the accuracy given different N-Gram ranges\n",
    "plt.plot(range(1, 6), accuracy)\n",
    "plt.title(\"Training Accuracy With N-Gram Variation\")\n",
    "plt.ylabel(\"Training Accuracy\")\n",
    "plt.xlabel(\"N-Gram Range: 1-x\")"
   ]
  },
  {
   "cell_type": "markdown",
   "metadata": {},
   "source": [
    "Distribution of Text Size in Training Data and Training Errors\n",
    "---------------------------------------"
   ]
  },
  {
   "cell_type": "code",
   "execution_count": 40,
   "metadata": {},
   "outputs": [
    {
     "data": {
      "text/plain": [
       "<matplotlib.legend.Legend at 0x25acb68d390>"
      ]
     },
     "execution_count": 40,
     "metadata": {},
     "output_type": "execute_result"
    },
    {
     "data": {
      "image/png": "[encoded data removed]",
      "text/plain": [
       "<Figure size 432x288 with 1 Axes>"
      ]
     },
     "metadata": {
      "needs_background": "light"
     },
     "output_type": "display_data"
    }
   ],
   "source": [
    "#For each review, find the length of clean_review and add this value to the dataframe\n",
    "for review in df.iloc[:, 0].index:\n",
    "    df.loc[review, \"clean_review_len\"]=len(re.split('\\W+', df.loc[review, 'clean_review']))\n",
    "    \n",
    "#hold all training classification errors in a list 'errors'\n",
    "errors=[]\n",
    "for review in df.iloc[:, 0].index:\n",
    "    if df.loc[review, 'rating'] != df.loc[review, 'predicted_rating']:\n",
    "        errors.append(df.loc[review, :])\n",
    "\n",
    "#Make error list a dataframe and plot a histogram of clean_review_len using a normalised frequency\n",
    "errors_df=pd.DataFrame(errors)\n",
    "errors_df=errors_df.reset_index()\n",
    "errors_df['clean_review_len'].hist(density=True, alpha=1)\n",
    "\n",
    "#Plot a histogram of clean_review_len of the original training data using a normalised frequency\n",
    "df['clean_review_len'].hist(density=True, alpha=0.6)\n",
    "plt.title(\"Text Size Distribution\")\n",
    "plt.ylabel(\"Normalised Frequency\")\n",
    "plt.xlabel(\"Text Size\")\n",
    "plt.legend([\"Training Errors\", \"Training Data\"])"
   ]
  }
 ],
 "metadata": {
  "kernelspec": {
   "display_name": "Python 3",
   "language": "python",
   "name": "python3"
  },
  "language_info": {
   "codemirror_mode": {
    "name": "ipython",
    "version": 3
   },
   "file_extension": ".py",
   "mimetype": "text/x-python",
   "name": "python",
   "nbconvert_exporter": "python",
   "pygments_lexer": "ipython3",
   "version": "3.7.1"
  }
 },
 "nbformat": 4,
 "nbformat_minor": 2
}
